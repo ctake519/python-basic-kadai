{
  "nbformat": 4,
  "nbformat_minor": 0,
  "metadata": {
    "colab": {
      "provenance": []
    },
    "kernelspec": {
      "name": "python3",
      "display_name": "Python 3"
    },
    "language_info": {
      "name": "python"
    }
  },
  "cells": [
    {
      "cell_type": "code",
      "source": [
        "var = 15\n",
        "if var % 3 == 0 and var % 5 == 0 :\n",
        "    print(\"FizzBuzz\")\n",
        "elif var % 3 == 0 :\n",
        "    print(\"Fizz\")\n",
        "elif var % 5 == 0 :\n",
        "    print(\"Buzz\")\n",
        "\n",
        "else :\n",
        "    print(var)"
      ],
      "metadata": {
        "colab": {
          "base_uri": "https://localhost:8080/"
        },
        "id": "q-MpxuxOiDzF",
        "outputId": "563eace6-9309-4849-e342-5f9956fb074c"
      },
      "execution_count": 27,
      "outputs": [
        {
          "output_type": "stream",
          "name": "stdout",
          "text": [
            "FizzBuzz\n"
          ]
        }
      ]
    }
  ]
}