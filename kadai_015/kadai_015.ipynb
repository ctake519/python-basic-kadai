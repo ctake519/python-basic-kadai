{
  "nbformat": 4,
  "nbformat_minor": 0,
  "metadata": {
    "colab": {
      "provenance": []
    },
    "kernelspec": {
      "name": "python3",
      "display_name": "Python 3"
    },
    "language_info": {
      "name": "python"
    }
  },
  "cells": [
    {
      "cell_type": "markdown",
      "source": [
        "名前(name)と年齢(age)の属性を持つHumanクラスを作成してください。\n",
        "nameとageを標準出力(print)するメソッド(printinfo)を追加してください。\n",
        "\n",
        "Humanクラスのインスタンスは、変数に代入してプログラム内で使用してください。\n",
        "```\n",
        "# クラスを定義する\n",
        "class Product:\n",
        "    クラスの特徴\n",
        "\n",
        "# インスタンス化する\n",
        "shampoo = Product()\n",
        "\n",
        "```\n",
        "```\n",
        "class Product:\n",
        "    def __init__(self):\n",
        "        # 属性を定義する\n",
        "        self.name = \"\"\n",
        "\n",
        "```\n",
        "```\n",
        "class Product:\n",
        "    def __init__(self):\n",
        "        self.name = \"\"\n",
        "\n",
        "    # メソッドを定義する\n",
        "    def set_name(self, name):\n",
        "        self.name = name\n",
        "\n",
        "shampoo = Product()\n",
        "\n",
        "# メソッドにアクセスして実行する\n",
        "shampoo.set_name(\"シャンプー\")\n",
        "```\n"
      ],
      "metadata": {
        "id": "0u0JTpU1mZBm"
      }
    },
    {
      "cell_type": "code",
      "source": [
        "class Human:\n",
        "    def __init__(self):\n",
        "        self.name = \"\"\n",
        "        self.age = \"\"\n",
        "\n",
        "    def printinfo(self, name, age):\n",
        "        self.name = name\n",
        "        self.age = age\n",
        "        print(self.name)\n",
        "        print(self.age)\n",
        "\n",
        "person = Human()\n",
        "\n",
        "person.printinfo(\"しいたけ\", 30)\n"
      ],
      "metadata": {
        "colab": {
          "base_uri": "https://localhost:8080/"
        },
        "id": "CGsGfvAlmSR_",
        "outputId": "f0948073-0b7f-4f86-8ea5-fd0221e9ec2c"
      },
      "execution_count": 7,
      "outputs": [
        {
          "output_type": "stream",
          "name": "stdout",
          "text": [
            "しいたけ\n",
            "30\n"
          ]
        }
      ]
    }
  ]
}