{
  "nbformat": 4,
  "nbformat_minor": 0,
  "metadata": {
    "colab": {
      "provenance": []
    },
    "kernelspec": {
      "name": "python3",
      "display_name": "Python 3"
    },
    "language_info": {
      "name": "python"
    }
  },
  "cells": [
    {
      "cell_type": "code",
      "source": [
        "class Human:\n",
        "    def __init__(self, name, age):\n",
        "        self.name = name\n",
        "        self.age = age\n",
        "\n",
        "    def check_adult(self):\n",
        "        if self.age >= 20:\n",
        "            print(f\"{self.name}は大人です。\")\n",
        "        else:\n",
        "            print(f\"{self.name}は大人ではありません。\")\n",
        "\n",
        "humans = {\n",
        "    Human(\"しいたけ\", 25),\n",
        "    Human(\"えのき\", 18),\n",
        "    Human(\"まいたけ\", 30)\n",
        "}\n",
        "\n",
        "for human in humans:\n",
        "    human.check_adult()\n",
        ""
      ],
      "metadata": {
        "colab": {
          "base_uri": "https://localhost:8080/"
        },
        "id": "MKlkwiDmZ5eW",
        "outputId": "0129ea1d-9669-4f62-d469-7972ff8eb091"
      },
      "execution_count": 4,
      "outputs": [
        {
          "output_type": "stream",
          "name": "stdout",
          "text": [
            "まいたけは大人です。\n",
            "えのきは大人ではありません。\n",
            "しいたけは大人です。\n"
          ]
        }
      ]
    }
  ]
}