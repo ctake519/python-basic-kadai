{
  "nbformat": 4,
  "nbformat_minor": 0,
  "metadata": {
    "colab": {
      "provenance": []
    },
    "kernelspec": {
      "name": "python3",
      "display_name": "Python 3"
    },
    "language_info": {
      "name": "python"
    }
  },
  "cells": [
    {
      "cell_type": "markdown",
      "source": [
        "商品購入時の消費税を、関数で計算するプログラムのソースコードを作成して提出してください。以下のヒントを参考にして、プログラムを作成してください。\n",
        "\n",
        "消費税を加えた計算結果を返す関数を記述する\n",
        "「結果を返す関数」なので戻り値を使用する\n",
        "第1引数に商品の金額、第2引数に消費税（10%）を設定する\n",
        "\n",
        "計算結果で小数点が含まれる場合はそのまま表示してください。\n",
        "切り捨てや四捨五入などの処理は不要です"
      ],
      "metadata": {
        "id": "kSs3l-IhSns7"
      }
    },
    {
      "cell_type": "code",
      "source": [
        "def kadai_013(price, tax):\n",
        "    total_price = price + (price * tax)\n",
        "    return total_price\n",
        "\n",
        "kadai_013(1000, 0.1)\n"
      ],
      "metadata": {
        "colab": {
          "base_uri": "https://localhost:8080/"
        },
        "id": "tew4zIwPT6H6",
        "outputId": "11879f0b-ead5-4a63-a950-cc6d80d38e60"
      },
      "execution_count": 24,
      "outputs": [
        {
          "output_type": "execute_result",
          "data": {
            "text/plain": [
              "1100.0"
            ]
          },
          "metadata": {},
          "execution_count": 24
        }
      ]
    }
  ]
}